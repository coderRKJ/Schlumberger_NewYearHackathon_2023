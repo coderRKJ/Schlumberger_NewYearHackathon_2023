{
  "cells": [
    {
      "cell_type": "markdown",
      "metadata": {
        "id": "14M0QbEWKnxG"
      },
      "source": [
        "## Imports"
      ]
    },
    {
      "cell_type": "code",
      "execution_count": null,
      "metadata": {
        "id": "cr52mu28CgZJ"
      },
      "outputs": [],
      "source": [
        "from pprint import pprint\n",
        "from transformers import pipeline"
      ]
    },
    {
      "cell_type": "markdown",
      "metadata": {
        "id": "ts_LVSROKvEg"
      },
      "source": [
        "## Create Summarization Pipeline with Facebook's `bart-large-cnn` pre-trained model\n",
        "Model has a limit of 1024 tokens as input"
      ]
    },
    {
      "cell_type": "code",
      "execution_count": null,
      "metadata": {
        "id": "a6Xo9VN7FUmq"
      },
      "outputs": [],
      "source": [
        "summarizer = pipeline(\"summarization\", model=\"facebook/bart-large-cnn\")"
      ]
    },
    {
      "cell_type": "markdown",
      "metadata": {
        "id": "LrDu5J2uLK5k"
      },
      "source": [
        "We are testing the model on multiple set of paragraphs"
      ]
    },
    {
      "cell_type": "code",
      "execution_count": null,
      "metadata": {
        "colab": {
          "base_uri": "https://localhost:8080/"
        },
        "id": "fnG7dXqiC9qO",
        "outputId": "aeac096b-a678-490b-9e60-19b02935f81e"
      },
      "outputs": [
        {
          "name": "stdout",
          "output_type": "stream",
          "text": [
            "Model output:\n",
            "{'summary_text': 'Insulation medium is an indispensable part of a power '\n",
            "                 'transformer, and the interesting thing about it is that it '\n",
            "                 'can drop dead at any time. This article presents the '\n",
            "                 'transformer oil features by which one must abide. These '\n",
            "                 'features are examined according to standards to ensure the '\n",
            "                 'oil’s integrity.'}\n"
          ]
        }
      ],
      "source": [
        "ARTICLE = \"\"\" \n",
        "Insulation medium is an indispensable part of a power transformer, and the interesting thing about it is that it can drop dead at any time. Most of the time, this doesn’t happen, \n",
        "but… This article presents the transformer oil features by which one must abide. These features are examined according to standards to ensure the oil’s integrity. \n",
        "Transformer-impregnated paper is the determining factor in transformer age, so it is discussed extensively.\n",
        "\n",
        "The importance of insulation was increased over the years due to the increase in the voltage rating of transformers. Within the last decades, although research on transformer\n",
        "insulation and diagnosis methods have been improved so much, the insulation of HV transformers remained more or less unchanged, and for EHV and UHV transformers,\n",
        "the oil–paper insulation is dominant.\n",
        "\n",
        "Transformer oil has elements indicative of the transformer’s overall health. For example, a DGA transformer oil test shows levels of gases like acetylene and ethylene\n",
        "rising above a safe limit. This indicates the aging of the transformer.\n",
        "\n",
        "Other crucial transformer oil tests are the Power/Dissipation factor and Oil breakdown voltage which indicate the dielectric strength and power factor of the transformer oil. \n",
        "Any deviation from ideal values is an alarming sign that the transformer needs attention to mitigate the risk of failure.\n",
        "\n",
        "Transformer oil can be categorized into three types: Mineral oil, Silicone-based oil, and Bio-based oil. Owing to the excellent cooling and insulating property of mineral oils,\n",
        "these have been the most used transformer oil for many years. However, as years and research progressed, the shortcoming of mineral oils started to gain attention. Poor biodegradability, potential flammability, and low moisture tolerance are the most important concerns.\n",
        "\n",
        "However, it is a topic for another day to discuss the suitability of these oil types.\n",
        "\"\"\"\n",
        "output_dict = summarizer(ARTICLE, max_length=142, min_length=30, do_sample=False)[0]\n",
        "print(\"Model output:\")\n",
        "pprint(output_dict)"
      ]
    },
    {
      "cell_type": "markdown",
      "metadata": {
        "id": "9hwu_w6KF8k8"
      },
      "source": [
        "## Break the text into chunks/paragraphs and process repeatedly\n",
        "\n",
        "To reduce token size and let the model see all the text, we break it into chunks. Here we seperate blocks by the paragrah breaks."
      ]
    },
    {
      "cell_type": "code",
      "execution_count": null,
      "metadata": {
        "colab": {
          "base_uri": "https://localhost:8080/"
        },
        "id": "KQ98uOPdF7-a",
        "outputId": "d441b3da-2d01-4a7e-9010-939a27e19dcf"
      },
      "outputs": [
        {
          "name": "stdout",
          "output_type": "stream",
          "text": [
            "Summary of praragraph 1:\n",
            "('Insulation medium is an indispensable part of a power transformer. This '\n",
            " 'article presents the transformer oil features by which one must abide. These '\n",
            " 'features are examined according to standards to ensure the oil’s integrity.')\n",
            "Summary of praragraph 2:\n",
            "('The importance of insulation was increased over the years due to the '\n",
            " 'increase in the voltage rating of transformers. For EHV and UHV '\n",
            " 'transformers, the oil–paper insulation is dominant.')\n",
            "Summary of praragraph 3:\n",
            "('Transformer oil has elements indicative of the transformer’s overall health. '\n",
            " 'For example, a DGA transformer oil test shows levels of gases like acetylene '\n",
            " 'and ethylenerising above a safe limit.')\n",
            "Summary of praragraph 4:\n",
            "('Transformer oil tests are the Power/Dissipation factor and Oil breakdown '\n",
            " 'voltage which indicate the dielectric strength and power factor of the '\n",
            " 'transformer oil. Any deviation from ideal values is an alarming sign that '\n",
            " 'the transformer needs attention.')\n"
          ]
        },
        {
          "name": "stderr",
          "output_type": "stream",
          "text": [
            "Your max_length is set to 50, but you input_length is only 21. You might consider decreasing max_length manually, e.g. summarizer('...', max_length=10)\n"
          ]
        },
        {
          "name": "stdout",
          "output_type": "stream",
          "text": [
            "Summary of praragraph 5:\n",
            "(' mineral oils have been the most used transformer oil for many years. '\n",
            " 'However, as years and research progressed, the shortcoming of mineral oils '\n",
            " 'started to gain attention. Poor biodegradability, potential flammability, '\n",
            " 'and low moisture tolerance')\n",
            "Summary of praragraph 6:\n",
            "('It is a topic for another day to discuss the suitability of these oil types. '\n",
            " 'However, it is an important topic for the future of the country.')\n"
          ]
        }
      ],
      "source": [
        "paragraph_break = \"\\n\\n\"\n",
        "\n",
        "summary_text_list = []\n",
        "for i, paragraph in enumerate(ARTICLE.split(paragraph_break), 1):\n",
        "    summary_text_list.append(\n",
        "        summarizer(paragraph.strip(), max_length=50, min_length=30, do_sample=False)[0]['summary_text']\n",
        "    )\n",
        "    print(f\"Summary of praragraph {i}:\")\n",
        "    pprint(summary_text_list[-1])"
      ]
    },
    {
      "cell_type": "markdown",
      "metadata": {
        "id": "u9garz06KBKQ"
      },
      "source": [
        "## Assimilate all individual summaries into a final large summary\n",
        "\n",
        "Join the summaries as a\\seperate paragrahs and pass it into the model."
      ]
    },
    {
      "cell_type": "code",
      "execution_count": null,
      "metadata": {
        "colab": {
          "base_uri": "https://localhost:8080/"
        },
        "id": "9XcTczaaKAjw",
        "outputId": "217f3f29-37b0-4935-d020-f87921e0c1e6"
      },
      "outputs": [
        {
          "name": "stdout",
          "output_type": "stream",
          "text": [
            "Final output:\n",
            "{'summary_text': 'Insulation medium is an indispensable part of a power '\n",
            "                 'transformer. This article presents the transformer oil '\n",
            "                 'features by which one must abide. These features are '\n",
            "                 \"examined according to standards to ensure the oil's \"\n",
            "                 'integrity.'}\n"
          ]
        }
      ],
      "source": [
        "joined_summary = '\\n'.join(summary_text_list)\n",
        "\n",
        "output_dict = summarizer(joined_summary, max_length=142, min_length=30, do_sample=False)[0]\n",
        "\n",
        "print(\"Final output:\")\n",
        "pprint(output_dict)"
      ]
    }
  ],
  "metadata": {
    "colab": {
      "provenance": []
    },
    "kernelspec": {
      "display_name": "venv",
      "language": "python",
      "name": "python3"
    },
    "language_info": {
      "name": "python",
      "version": "3.11.1 (main, Dec  7 2022, 01:11:44) [GCC 9.4.0]"
    },
    "vscode": {
      "interpreter": {
        "hash": "585f4be9a281ffac165d6c323eecb178e5c65147923c347f9c14e82f7764a958"
      }
    }
  },
  "nbformat": 4,
  "nbformat_minor": 0
}
